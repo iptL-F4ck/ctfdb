{
 "cells": [
  {
   "cell_type": "code",
   "execution_count": 24,
   "metadata": {},
   "outputs": [],
   "source": [
    "import random\n",
    "from Crypto.Util.number import long_to_bytes"
   ]
  },
  {
   "cell_type": "code",
   "execution_count": 25,
   "metadata": {},
   "outputs": [],
   "source": [
    "def AMM(o, r, q):\n",
    "    g = GF(q)\n",
    "    o = g(o)\n",
    "    p = g(random.randint(1, q))\n",
    "    while p ^ ((q-1) // r) == 1:\n",
    "        p = g(random.randint(1, q))\n",
    "    t = 0\n",
    "    s = q - 1\n",
    "    while s % r == 0:\n",
    "        t += 1\n",
    "        s = s // r\n",
    "    k = 1\n",
    "    while (k * s + 1) % r != 0:\n",
    "        k += 1\n",
    "    alp = (k * s + 1) // r\n",
    "    a = p ^ (r**(t-1) * s)\n",
    "    b = o ^ (r*alp - 1)\n",
    "    c = p ^ s\n",
    "    h = 1\n",
    "    for i in range(1, t):\n",
    "        d = b ^ (r^(t-1-i))\n",
    "        if d == 1:\n",
    "            j = 0\n",
    "        else:\n",
    "            j = - dicreat_log(a, d)\n",
    "        b = b * (c^r)^j\n",
    "        h = h * c^j\n",
    "        c = c ^ r\n",
    "    result = o^alp * h\n",
    "    return result\n",
    "\n",
    "def findAllPRoot(p, e):\n",
    "    proot = set()\n",
    "    while len(proot) < e:\n",
    "        proot.add(pow(random.randint(2, p-1), (p-1)//e, p))\n",
    "    return proot\n",
    "\n",
    "def findAllSolutions(mp, proot, cp, p):\n",
    "    all_mp = set()\n",
    "    for root in proot:\n",
    "        mp2 = mp * root % p\n",
    "        assert(pow(mp2, e, p) == cp)\n",
    "        all_mp.add(mp2)\n",
    "    return all_mp"
   ]
  },
  {
   "cell_type": "code",
   "execution_count": 26,
   "metadata": {},
   "outputs": [],
   "source": [
    "c = 12732299056226934743176360461051108799706450051853623472248552066649321279227693844417404789169416642586313895494292082308084823101092675162498154181999270703392144766031531668783213589136974486867571090321426005719333327425286160436925591205840653712046866950957876967715226097699016798471712274797888761218915345301238306497841970203137048433491914195023230951832644259526895087301990301002618450573323078919808182376666320244077837033894089805640452791930176084416087344594957596135877833163152566525019063919662459299054294655118065279192807949989681674190983739625056255497842063989284921411358232926435537518406\n",
    "p = 199138677823743837339927520157607820029746574557746549094921488292877226509198315016018919385259781238148402833316033634968163276198999279327827901879426429664674358844084491830543271625147280950273934405879341438429171453002453838897458102128836690385604150324972907981960626767679153125735677417397078196059\n",
    "q = 112213695905472142415221444515326532320352429478341683352811183503269676555434601229013679319423878238944956830244386653674413411658696751173844443394608246716053086226910581400528167848306119179879115809778793093611381764939789057524575349501163689452810148280625226541609383166347879832134495444706697124741\n",
    "e = 4919"
   ]
  },
  {
   "cell_type": "code",
   "execution_count": 27,
   "metadata": {},
   "outputs": [
    {
     "name": "stdout",
     "output_type": "stream",
     "text": [
      "P roots found: 5849.8007826805115\n",
      "Q roots found: 5874.6703979969025\n"
     ]
    }
   ],
   "source": [
    "# find all roots for pow(x, e, p)=1 and pow(x, e, q)=1 \n",
    "cp = c % p\n",
    "cq = c % q\n",
    "p_proot = findAllPRoot(p, e)\n",
    "q_proot = findAllPRoot(q, e)"
   ]
  },
  {
   "cell_type": "code",
   "execution_count": 28,
   "metadata": {},
   "outputs": [],
   "source": [
    "# find all roots for pow(x, e, p)=cp and pow(x, e, q)=cq\n",
    "mp = AMM(cp, e, p)\n",
    "mq = AMM(cq, e, q)"
   ]
  },
  {
   "cell_type": "code",
   "execution_count": 29,
   "metadata": {},
   "outputs": [],
   "source": [
    "mps = findAllSolutions(mp, p_proot, cp, p)\n",
    "mqs = findAllSolutions(mq, q_proot, cq, q)"
   ]
  },
  {
   "cell_type": "code",
   "execution_count": null,
   "metadata": {},
   "outputs": [],
   "source": [
    "for mp in mps:\n",
    "    for mq in mqs:\n",
    "        solution = CRT_list([int(mp), int(mq)], [p, q])\n",
    "        if b'*CTF{' in long_to_bytes(solution):\n",
    "            print(long_to_bytes(solution))"
   ]
  },
  {
   "cell_type": "code",
   "execution_count": null,
   "metadata": {},
   "outputs": [],
   "source": []
  }
 ],
 "metadata": {
  "kernelspec": {
   "display_name": "SageMath 9.1",
   "language": "sage",
   "name": "sagemath"
  },
  "language_info": {
   "codemirror_mode": {
    "name": "ipython",
    "version": 3
   },
   "file_extension": ".py",
   "mimetype": "text/x-python",
   "name": "python",
   "nbconvert_exporter": "python",
   "pygments_lexer": "ipython3",
   "version": "3.7.3"
  }
 },
 "nbformat": 4,
 "nbformat_minor": 2
}
